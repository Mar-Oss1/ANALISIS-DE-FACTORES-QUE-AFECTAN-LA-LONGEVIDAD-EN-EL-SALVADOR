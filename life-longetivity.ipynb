{
 "cells": [
  {
   "cell_type": "code",
   "execution_count": 1,
   "id": "1f93e2a7",
   "metadata": {
    "_cell_guid": "b1076dfc-b9ad-4769-8c92-a6c4dae69d19",
    "_uuid": "8f2839f25d086af736a60e9eeb907d3b93b6e0e5",
    "execution": {
     "iopub.execute_input": "2023-08-30T04:51:51.749955Z",
     "iopub.status.busy": "2023-08-30T04:51:51.749616Z",
     "iopub.status.idle": "2023-08-30T04:51:52.584633Z",
     "shell.execute_reply": "2023-08-30T04:51:52.583954Z"
    },
    "papermill": {
     "duration": 0.845518,
     "end_time": "2023-08-30T04:51:52.586705",
     "exception": false,
     "start_time": "2023-08-30T04:51:51.741187",
     "status": "completed"
    },
    "tags": []
   },
   "outputs": [
    {
     "name": "stderr",
     "output_type": "stream",
     "text": [
      "/opt/conda/lib/python3.10/site-packages/scipy/__init__.py:146: UserWarning: A NumPy version >=1.16.5 and <1.23.0 is required for this version of SciPy (detected version 1.23.5\n",
      "  warnings.warn(f\"A NumPy version >={np_minversion} and <{np_maxversion}\"\n"
     ]
    }
   ],
   "source": [
    "import numpy as np\n",
    "import pandas as pd\n",
    "from sklearn.preprocessing import MinMaxScaler\n",
    "from sklearn.preprocessing import LabelEncoder\n"
   ]
  },
  {
   "cell_type": "markdown",
   "id": "eb5bfb37",
   "metadata": {
    "papermill": {
     "duration": 0.006193,
     "end_time": "2023-08-30T04:51:52.599884",
     "exception": false,
     "start_time": "2023-08-30T04:51:52.593691",
     "status": "completed"
    },
    "tags": []
   },
   "source": [
    "Lets create the functions for performing the data preprocessing in the dataset "
   ]
  },
  {
   "cell_type": "code",
   "execution_count": 2,
   "id": "fa415cf5",
   "metadata": {
    "execution": {
     "iopub.execute_input": "2023-08-30T04:51:52.615515Z",
     "iopub.status.busy": "2023-08-30T04:51:52.614865Z",
     "iopub.status.idle": "2023-08-30T04:51:52.625191Z",
     "shell.execute_reply": "2023-08-30T04:51:52.624598Z"
    },
    "papermill": {
     "duration": 0.020603,
     "end_time": "2023-08-30T04:51:52.626810",
     "exception": false,
     "start_time": "2023-08-30T04:51:52.606207",
     "status": "completed"
    },
    "tags": []
   },
   "outputs": [],
   "source": [
    "def identify_categorical_columns(df):\n",
    "    categorical_columns = []\n",
    "    for col in df.columns:\n",
    "        if df[col].dtype.name == \"object\":\n",
    "            categorical_columns.append(col)\n",
    "    return categorical_columns\n",
    "\n",
    "def identify_date_time_columns(df):\n",
    "    date_time_columns = []\n",
    "    for col in df.columns:\n",
    "        if pd.api.types.is_datetime_dtype(df[col]):\n",
    "            date_time_columns.append(col)\n",
    "    return date_time_columns\n",
    "\n",
    "def handle_missing_values(df):\n",
    "    # Impute missing values with the mean of the column.\n",
    "    for col in df.columns:\n",
    "        if df[col].isnull().any():\n",
    "            df[col].fillna(df[col].mean(), inplace=True)\n",
    "    return df\n",
    "\n",
    "def handle_duplicates(df):\n",
    "    # Drop duplicate rows.\n",
    "    df.drop_duplicates(inplace=True)\n",
    "    return df\n",
    "\n",
    "def handle_outliers(df, threshold=3):\n",
    "    # Identify outliers using the z-score method.\n",
    "    for col in df.columns:\n",
    "        if df[col].dtype.name in [\"float64\", \"int64\"]:\n",
    "            df_z = df[col].apply(lambda x: (x - df[col].mean()) / df[col].std())\n",
    "            df_outliers = df_z[abs(df_z) > threshold]\n",
    "            df.drop(df_outliers.index, inplace=True)\n",
    "    return df\n",
    "\n",
    "def normalize_data(df):\n",
    "    # Normalize the data using the MinMaxScaler.\n",
    "    scaler = MinMaxScaler()\n",
    "    df_norm = scaler.fit_transform(df)\n",
    "    df_norm = pd.DataFrame(df_norm, columns=df.columns)\n",
    "    return df_norm\n",
    "\n",
    "def encode_data(df,categoriacal_columns):\n",
    "    label=LabelEncoder()\n",
    "    for i in categoriacal_columns:\n",
    "        df[i]=label.fit_transform(df[i])\n",
    "    return df\n",
    "    \n",
    "def handle_data(df):\n",
    "    # Identify categorical columns.\n",
    "    categorical_columns = identify_categorical_columns(df)\n",
    "    # Identify date and time columns.\n",
    "#     date_time_columns = identify_date_time_columns(df)\n",
    "    # Handle missing values.\n",
    "    df = encode_data(df, categorical_columns)\n",
    "    df = handle_missing_values(df)\n",
    "    # Handle duplicates.\n",
    "#     df = handle_duplicates(df)\n",
    "    # Handle outliers.\n",
    "#     df = handle_outliers(df)\n",
    "    # Normalize the data.\n",
    "    df = normalize_data(df)\n",
    "    # Encode categorical data.\n",
    "    # Handle date and time data.\n",
    "#     df = handle_date_time(df, date_time_columns)\n",
    "    # Handle imbalance.\n",
    "#     df = handle_imbalance(df, target_column)\n",
    "    return df"
   ]
  },
  {
   "cell_type": "markdown",
   "id": "132823fb",
   "metadata": {
    "papermill": {
     "duration": 0.006326,
     "end_time": "2023-08-30T04:51:52.639731",
     "exception": false,
     "start_time": "2023-08-30T04:51:52.633405",
     "status": "completed"
    },
    "tags": []
   },
   "source": [
    "This dataset is manually collected from observations. It helps us to build machine learning models to predict the quality of milk.\n",
    "This dataset consists of 7 independent variables ie pH, Temperature, Taste, Odor, Fat, Turbidity, and Color.\n",
    "Generally, the Grade or Quality of the milk depends on these parameters. These parameters play a vital role in the predictive analysis of the milk.\n",
    "\n",
    "Usage\n",
    "The target variable is nothing but the Grade of the milk. It can be\n",
    "\n",
    "Target\n",
    "\n",
    "Low (Bad)\n",
    "\n",
    "Medium (Moderate)\n",
    "\n",
    "High (Good)\n",
    "\n",
    "If Taste, Odor, Fat, and Turbidity are satisfied with optimal conditions then they will assign 1 otherwise 0.\n",
    "Temperature and ph are given their actual values in the dataset.\n",
    "\n",
    "We have to perform data preprocessing, and data augmentation techniques to build statistical and predictive models to predict the quality of the milk.\n",
    "\n",
    "Inspiration\n",
    "To leverage the benefits of machine learning in the dairy industry."
   ]
  },
  {
   "cell_type": "code",
   "execution_count": 1,
   "id": "cc78cfac",
   "metadata": {
    "execution": {
     "iopub.execute_input": "2023-08-30T04:51:52.654395Z",
     "iopub.status.busy": "2023-08-30T04:51:52.653523Z",
     "iopub.status.idle": "2023-08-30T04:51:52.695197Z",
     "shell.execute_reply": "2023-08-30T04:51:52.694336Z"
    },
    "papermill": {
     "duration": 0.050799,
     "end_time": "2023-08-30T04:51:52.696904",
     "exception": false,
     "start_time": "2023-08-30T04:51:52.646105",
     "status": "completed"
    },
    "tags": []
   },
   "outputs": [
    {
     "ename": "NameError",
     "evalue": "name 'pd' is not defined",
     "output_type": "error",
     "traceback": [
      "\u001b[1;31m---------------------------------------------------------------------------\u001b[0m",
      "\u001b[1;31mNameError\u001b[0m                                 Traceback (most recent call last)",
      "Cell \u001b[1;32mIn[1], line 1\u001b[0m\n\u001b[1;32m----> 1\u001b[0m df\u001b[38;5;241m=\u001b[39m(\u001b[43mpd\u001b[49m\n\u001b[0;32m      2\u001b[0m    \u001b[38;5;241m.\u001b[39mread_csv(\u001b[38;5;124m\"\u001b[39m\u001b[38;5;124m/kaggle/input/life-longevity-factors/LiveLongerData.csv\u001b[39m\u001b[38;5;124m\"\u001b[39m)\n\u001b[0;32m      3\u001b[0m    )\n\u001b[0;32m      4\u001b[0m df\u001b[38;5;241m.\u001b[39mhead()\n",
      "\u001b[1;31mNameError\u001b[0m: name 'pd' is not defined"
     ]
    }
   ],
   "source": [
    "df=(pd\n",
    "   .read_csv(\"/kaggle/input/life-longevity-factors/LiveLongerData.csv\")\n",
    "   )\n",
    "df.head()"
   ]
  },
  {
   "cell_type": "code",
   "execution_count": 4,
   "id": "dbdf830c",
   "metadata": {
    "execution": {
     "iopub.execute_input": "2023-08-30T04:51:52.714077Z",
     "iopub.status.busy": "2023-08-30T04:51:52.713305Z",
     "iopub.status.idle": "2023-08-30T04:51:52.736357Z",
     "shell.execute_reply": "2023-08-30T04:51:52.735029Z"
    },
    "papermill": {
     "duration": 0.033595,
     "end_time": "2023-08-30T04:51:52.738512",
     "exception": false,
     "start_time": "2023-08-30T04:51:52.704917",
     "status": "completed"
    },
    "tags": []
   },
   "outputs": [
    {
     "name": "stdout",
     "output_type": "stream",
     "text": [
      "<class 'pandas.core.frame.DataFrame'>\n",
      "RangeIndex: 35 entries, 0 to 34\n",
      "Data columns (total 11 columns):\n",
      " #   Column                           Non-Null Count  Dtype  \n",
      "---  ------                           --------------  -----  \n",
      " 0   Factor                           35 non-null     object \n",
      " 1   Years gained / lost              35 non-null     float64\n",
      " 2   strength of science?             35 non-null     object \n",
      " 3   strength of science as a number  35 non-null     int64  \n",
      " 4   sexes affected                   35 non-null     object \n",
      " 5   effect                           35 non-null     object \n",
      " 6   Comment                          26 non-null     object \n",
      " 7   Note                             35 non-null     object \n",
      " 8   ID                               35 non-null     int64  \n",
      " 9   Sources                          35 non-null     object \n",
      " 10  Links                            35 non-null     object \n",
      "dtypes: float64(1), int64(2), object(8)\n",
      "memory usage: 3.1+ KB\n"
     ]
    }
   ],
   "source": [
    "df.info()"
   ]
  },
  {
   "cell_type": "code",
   "execution_count": 5,
   "id": "673c7bc3",
   "metadata": {
    "execution": {
     "iopub.execute_input": "2023-08-30T04:51:52.754896Z",
     "iopub.status.busy": "2023-08-30T04:51:52.754554Z",
     "iopub.status.idle": "2023-08-30T04:51:52.760030Z",
     "shell.execute_reply": "2023-08-30T04:51:52.759046Z"
    },
    "papermill": {
     "duration": 0.015409,
     "end_time": "2023-08-30T04:51:52.761724",
     "exception": false,
     "start_time": "2023-08-30T04:51:52.746315",
     "status": "completed"
    },
    "tags": []
   },
   "outputs": [
    {
     "data": {
      "text/plain": [
       "(35, 11)"
      ]
     },
     "execution_count": 5,
     "metadata": {},
     "output_type": "execute_result"
    }
   ],
   "source": [
    "df.shape"
   ]
  },
  {
   "cell_type": "code",
   "execution_count": 6,
   "id": "63bc9207",
   "metadata": {
    "execution": {
     "iopub.execute_input": "2023-08-30T04:51:52.776504Z",
     "iopub.status.busy": "2023-08-30T04:51:52.776108Z",
     "iopub.status.idle": "2023-08-30T04:51:52.794184Z",
     "shell.execute_reply": "2023-08-30T04:51:52.793317Z"
    },
    "papermill": {
     "duration": 0.027661,
     "end_time": "2023-08-30T04:51:52.796197",
     "exception": false,
     "start_time": "2023-08-30T04:51:52.768536",
     "status": "completed"
    },
    "tags": []
   },
   "outputs": [
    {
     "data": {
      "text/html": [
       "<div>\n",
       "<style scoped>\n",
       "    .dataframe tbody tr th:only-of-type {\n",
       "        vertical-align: middle;\n",
       "    }\n",
       "\n",
       "    .dataframe tbody tr th {\n",
       "        vertical-align: top;\n",
       "    }\n",
       "\n",
       "    .dataframe thead th {\n",
       "        text-align: right;\n",
       "    }\n",
       "</style>\n",
       "<table border=\"1\" class=\"dataframe\">\n",
       "  <thead>\n",
       "    <tr style=\"text-align: right;\">\n",
       "      <th></th>\n",
       "      <th>Years gained / lost</th>\n",
       "      <th>strength of science as a number</th>\n",
       "      <th>ID</th>\n",
       "    </tr>\n",
       "  </thead>\n",
       "  <tbody>\n",
       "    <tr>\n",
       "      <th>count</th>\n",
       "      <td>35.000000</td>\n",
       "      <td>35.000000</td>\n",
       "      <td>35.000000</td>\n",
       "    </tr>\n",
       "    <tr>\n",
       "      <th>mean</th>\n",
       "      <td>3.243143</td>\n",
       "      <td>1.771429</td>\n",
       "      <td>18.000000</td>\n",
       "    </tr>\n",
       "    <tr>\n",
       "      <th>std</th>\n",
       "      <td>8.126155</td>\n",
       "      <td>0.877353</td>\n",
       "      <td>10.246951</td>\n",
       "    </tr>\n",
       "    <tr>\n",
       "      <th>min</th>\n",
       "      <td>-25.000000</td>\n",
       "      <td>1.000000</td>\n",
       "      <td>1.000000</td>\n",
       "    </tr>\n",
       "    <tr>\n",
       "      <th>25%</th>\n",
       "      <td>1.070000</td>\n",
       "      <td>1.000000</td>\n",
       "      <td>9.500000</td>\n",
       "    </tr>\n",
       "    <tr>\n",
       "      <th>50%</th>\n",
       "      <td>3.500000</td>\n",
       "      <td>1.000000</td>\n",
       "      <td>18.000000</td>\n",
       "    </tr>\n",
       "    <tr>\n",
       "      <th>75%</th>\n",
       "      <td>7.750000</td>\n",
       "      <td>3.000000</td>\n",
       "      <td>26.500000</td>\n",
       "    </tr>\n",
       "    <tr>\n",
       "      <th>max</th>\n",
       "      <td>15.000000</td>\n",
       "      <td>3.000000</td>\n",
       "      <td>35.000000</td>\n",
       "    </tr>\n",
       "  </tbody>\n",
       "</table>\n",
       "</div>"
      ],
      "text/plain": [
       "       Years gained / lost  strength of science as a number         ID\n",
       "count            35.000000                        35.000000  35.000000\n",
       "mean              3.243143                         1.771429  18.000000\n",
       "std               8.126155                         0.877353  10.246951\n",
       "min             -25.000000                         1.000000   1.000000\n",
       "25%               1.070000                         1.000000   9.500000\n",
       "50%               3.500000                         1.000000  18.000000\n",
       "75%               7.750000                         3.000000  26.500000\n",
       "max              15.000000                         3.000000  35.000000"
      ]
     },
     "execution_count": 6,
     "metadata": {},
     "output_type": "execute_result"
    }
   ],
   "source": [
    "df.describe()"
   ]
  },
  {
   "cell_type": "code",
   "execution_count": 7,
   "id": "8e8af604",
   "metadata": {
    "execution": {
     "iopub.execute_input": "2023-08-30T04:51:52.811766Z",
     "iopub.status.busy": "2023-08-30T04:51:52.811383Z",
     "iopub.status.idle": "2023-08-30T04:51:52.824024Z",
     "shell.execute_reply": "2023-08-30T04:51:52.823165Z"
    },
    "papermill": {
     "duration": 0.022625,
     "end_time": "2023-08-30T04:51:52.825878",
     "exception": false,
     "start_time": "2023-08-30T04:51:52.803253",
     "status": "completed"
    },
    "tags": []
   },
   "outputs": [],
   "source": [
    "X=df.drop(['effect','Sources','ID','Links','Comment','Note'],axis=1)\n",
    "df1=handle_data(X)"
   ]
  },
  {
   "cell_type": "code",
   "execution_count": 8,
   "id": "b12ef400",
   "metadata": {
    "execution": {
     "iopub.execute_input": "2023-08-30T04:51:52.842200Z",
     "iopub.status.busy": "2023-08-30T04:51:52.841497Z",
     "iopub.status.idle": "2023-08-30T04:51:52.851142Z",
     "shell.execute_reply": "2023-08-30T04:51:52.850245Z"
    },
    "papermill": {
     "duration": 0.019464,
     "end_time": "2023-08-30T04:51:52.852889",
     "exception": false,
     "start_time": "2023-08-30T04:51:52.833425",
     "status": "completed"
    },
    "tags": []
   },
   "outputs": [
    {
     "data": {
      "text/html": [
       "<div>\n",
       "<style scoped>\n",
       "    .dataframe tbody tr th:only-of-type {\n",
       "        vertical-align: middle;\n",
       "    }\n",
       "\n",
       "    .dataframe tbody tr th {\n",
       "        vertical-align: top;\n",
       "    }\n",
       "\n",
       "    .dataframe thead th {\n",
       "        text-align: right;\n",
       "    }\n",
       "</style>\n",
       "<table border=\"1\" class=\"dataframe\">\n",
       "  <thead>\n",
       "    <tr style=\"text-align: right;\">\n",
       "      <th></th>\n",
       "      <th>Factor</th>\n",
       "      <th>Years gained / lost</th>\n",
       "      <th>strength of science?</th>\n",
       "      <th>strength of science as a number</th>\n",
       "      <th>sexes affected</th>\n",
       "    </tr>\n",
       "  </thead>\n",
       "  <tbody>\n",
       "    <tr>\n",
       "      <th>0</th>\n",
       "      <td>29</td>\n",
       "      <td>-10.0</td>\n",
       "      <td>1</td>\n",
       "      <td>3</td>\n",
       "      <td>0</td>\n",
       "    </tr>\n",
       "    <tr>\n",
       "      <th>1</th>\n",
       "      <td>28</td>\n",
       "      <td>-3.0</td>\n",
       "      <td>2</td>\n",
       "      <td>1</td>\n",
       "      <td>0</td>\n",
       "    </tr>\n",
       "    <tr>\n",
       "      <th>2</th>\n",
       "      <td>31</td>\n",
       "      <td>-1.5</td>\n",
       "      <td>2</td>\n",
       "      <td>1</td>\n",
       "      <td>0</td>\n",
       "    </tr>\n",
       "    <tr>\n",
       "      <th>3</th>\n",
       "      <td>19</td>\n",
       "      <td>2.0</td>\n",
       "      <td>2</td>\n",
       "      <td>1</td>\n",
       "      <td>3</td>\n",
       "    </tr>\n",
       "    <tr>\n",
       "      <th>4</th>\n",
       "      <td>20</td>\n",
       "      <td>3.0</td>\n",
       "      <td>0</td>\n",
       "      <td>2</td>\n",
       "      <td>0</td>\n",
       "    </tr>\n",
       "  </tbody>\n",
       "</table>\n",
       "</div>"
      ],
      "text/plain": [
       "   Factor  Years gained / lost  strength of science?  \\\n",
       "0      29                -10.0                     1   \n",
       "1      28                 -3.0                     2   \n",
       "2      31                 -1.5                     2   \n",
       "3      19                  2.0                     2   \n",
       "4      20                  3.0                     0   \n",
       "\n",
       "   strength of science as a number  sexes affected  \n",
       "0                                3               0  \n",
       "1                                1               0  \n",
       "2                                1               0  \n",
       "3                                1               3  \n",
       "4                                2               0  "
      ]
     },
     "execution_count": 8,
     "metadata": {},
     "output_type": "execute_result"
    }
   ],
   "source": [
    "X.head()"
   ]
  },
  {
   "cell_type": "code",
   "execution_count": 9,
   "id": "63db2180",
   "metadata": {
    "execution": {
     "iopub.execute_input": "2023-08-30T04:51:52.870053Z",
     "iopub.status.busy": "2023-08-30T04:51:52.868959Z",
     "iopub.status.idle": "2023-08-30T04:51:52.879325Z",
     "shell.execute_reply": "2023-08-30T04:51:52.878719Z"
    },
    "papermill": {
     "duration": 0.020405,
     "end_time": "2023-08-30T04:51:52.880809",
     "exception": false,
     "start_time": "2023-08-30T04:51:52.860404",
     "status": "completed"
    },
    "tags": []
   },
   "outputs": [
    {
     "data": {
      "text/html": [
       "<div>\n",
       "<style scoped>\n",
       "    .dataframe tbody tr th:only-of-type {\n",
       "        vertical-align: middle;\n",
       "    }\n",
       "\n",
       "    .dataframe tbody tr th {\n",
       "        vertical-align: top;\n",
       "    }\n",
       "\n",
       "    .dataframe thead th {\n",
       "        text-align: right;\n",
       "    }\n",
       "</style>\n",
       "<table border=\"1\" class=\"dataframe\">\n",
       "  <thead>\n",
       "    <tr style=\"text-align: right;\">\n",
       "      <th></th>\n",
       "      <th>Factor</th>\n",
       "      <th>Years gained / lost</th>\n",
       "      <th>strength of science?</th>\n",
       "      <th>strength of science as a number</th>\n",
       "      <th>sexes affected</th>\n",
       "    </tr>\n",
       "  </thead>\n",
       "  <tbody>\n",
       "    <tr>\n",
       "      <th>0</th>\n",
       "      <td>0.852941</td>\n",
       "      <td>0.3750</td>\n",
       "      <td>0.5</td>\n",
       "      <td>1.0</td>\n",
       "      <td>0.0</td>\n",
       "    </tr>\n",
       "    <tr>\n",
       "      <th>1</th>\n",
       "      <td>0.823529</td>\n",
       "      <td>0.5500</td>\n",
       "      <td>1.0</td>\n",
       "      <td>0.0</td>\n",
       "      <td>0.0</td>\n",
       "    </tr>\n",
       "    <tr>\n",
       "      <th>2</th>\n",
       "      <td>0.911765</td>\n",
       "      <td>0.5875</td>\n",
       "      <td>1.0</td>\n",
       "      <td>0.0</td>\n",
       "      <td>0.0</td>\n",
       "    </tr>\n",
       "    <tr>\n",
       "      <th>3</th>\n",
       "      <td>0.558824</td>\n",
       "      <td>0.6750</td>\n",
       "      <td>1.0</td>\n",
       "      <td>0.0</td>\n",
       "      <td>0.6</td>\n",
       "    </tr>\n",
       "    <tr>\n",
       "      <th>4</th>\n",
       "      <td>0.588235</td>\n",
       "      <td>0.7000</td>\n",
       "      <td>0.0</td>\n",
       "      <td>0.5</td>\n",
       "      <td>0.0</td>\n",
       "    </tr>\n",
       "  </tbody>\n",
       "</table>\n",
       "</div>"
      ],
      "text/plain": [
       "     Factor  Years gained / lost  strength of science?  \\\n",
       "0  0.852941               0.3750                   0.5   \n",
       "1  0.823529               0.5500                   1.0   \n",
       "2  0.911765               0.5875                   1.0   \n",
       "3  0.558824               0.6750                   1.0   \n",
       "4  0.588235               0.7000                   0.0   \n",
       "\n",
       "   strength of science as a number  sexes affected  \n",
       "0                              1.0             0.0  \n",
       "1                              0.0             0.0  \n",
       "2                              0.0             0.0  \n",
       "3                              0.0             0.6  \n",
       "4                              0.5             0.0  "
      ]
     },
     "execution_count": 9,
     "metadata": {},
     "output_type": "execute_result"
    }
   ],
   "source": [
    "df1.head()"
   ]
  },
  {
   "cell_type": "markdown",
   "id": "0e5a58b9",
   "metadata": {
    "papermill": {
     "duration": 0.007076,
     "end_time": "2023-08-30T04:51:52.895945",
     "exception": false,
     "start_time": "2023-08-30T04:51:52.888869",
     "status": "completed"
    },
    "tags": []
   },
   "source": [
    "##Features vs Label"
   ]
  },
  {
   "cell_type": "code",
   "execution_count": 10,
   "id": "342662af",
   "metadata": {
    "execution": {
     "iopub.execute_input": "2023-08-30T04:51:52.912390Z",
     "iopub.status.busy": "2023-08-30T04:51:52.911548Z",
     "iopub.status.idle": "2023-08-30T04:51:53.169085Z",
     "shell.execute_reply": "2023-08-30T04:51:53.168152Z"
    },
    "papermill": {
     "duration": 0.267739,
     "end_time": "2023-08-30T04:51:53.170881",
     "exception": false,
     "start_time": "2023-08-30T04:51:52.903142",
     "status": "completed"
    },
    "tags": []
   },
   "outputs": [
    {
     "data": {
      "image/png": "[encoded data removed]",
      "text/plain": [
       "<Figure size 640x480 with 1 Axes>"
      ]
     },
     "metadata": {},
     "output_type": "display_data"
    }
   ],
   "source": [
    "(df\n",
    ".groupby(['strength of science?'])\n",
    ".effect#y\n",
    ".value_counts(normalize=True)\n",
    ".unstack()\n",
    ".plot\n",
    ".bar(title='effect v. science', rot='horizontal')\n",
    ");"
   ]
  },
  {
   "cell_type": "code",
   "execution_count": null,
   "id": "24b86093",
   "metadata": {
    "execution": {
     "iopub.execute_input": "2023-08-30T04:51:53.188080Z",
     "iopub.status.busy": "2023-08-30T04:51:53.187786Z",
     "iopub.status.idle": "2023-08-30T04:51:53.590172Z",
     "shell.execute_reply": "2023-08-30T04:51:53.589237Z"
    },
    "papermill": {
     "duration": 0.413105,
     "end_time": "2023-08-30T04:51:53.592206",
     "exception": false,
     "start_time": "2023-08-30T04:51:53.179101",
     "status": "completed"
    },
    "tags": []
   },
   "outputs": [
    {
     "data": {
      "image/png": "[encoded data removed]",
      "text/plain": [
       "<Figure size 640x480 with 1 Axes>"
      ]
     },
     "metadata": {},
     "output_type": "display_data"
    }
   ],
   "source": [
    "(df\n",
    ".groupby(['Years gained / lost'])\n",
    ".effect#y\n",
    ".value_counts(normalize=True)\n",
    ".unstack()\n",
    ".plot\n",
    ".bar(title='effect v. Years gained / lost', rot='horizontal')\n",
    ");"
   ]
  },
  {
   "cell_type": "code",
   "execution_count": 12,
   "id": "b109dc60",
   "metadata": {
    "execution": {
     "iopub.execute_input": "2023-08-30T04:51:53.610870Z",
     "iopub.status.busy": "2023-08-30T04:51:53.610510Z",
     "iopub.status.idle": "2023-08-30T04:51:54.129582Z",
     "shell.execute_reply": "2023-08-30T04:51:54.128964Z"
    },
    "papermill": {
     "duration": 0.529683,
     "end_time": "2023-08-30T04:51:54.131273",
     "exception": false,
     "start_time": "2023-08-30T04:51:53.601590",
     "status": "completed"
    },
    "tags": []
   },
   "outputs": [
    {
     "data": {
      "image/png": "[encoded data removed]",
      "text/plain": [
       "<Figure size 640x480 with 1 Axes>"
      ]
     },
     "metadata": {},
     "output_type": "display_data"
    }
   ],
   "source": [
    "(df\n",
    ".groupby(['Factor'])\n",
    ".effect#y\n",
    ".value_counts(normalize=True)\n",
    ".unstack()\n",
    ".plot\n",
    ".bar(title='effect v. taste', rot='horizontal')\n",
    ");"
   ]
  },
  {
   "cell_type": "code",
   "execution_count": 13,
   "id": "f922582c",
   "metadata": {
    "execution": {
     "iopub.execute_input": "2023-08-30T04:51:54.148843Z",
     "iopub.status.busy": "2023-08-30T04:51:54.148520Z",
     "iopub.status.idle": "2023-08-30T04:51:55.151188Z",
     "shell.execute_reply": "2023-08-30T04:51:55.149736Z"
    },
    "papermill": {
     "duration": 1.013091,
     "end_time": "2023-08-30T04:51:55.152657",
     "exception": true,
     "start_time": "2023-08-30T04:51:54.139566",
     "status": "failed"
    },
    "tags": []
   },
   "outputs": [
    {
     "ename": "KeyError",
     "evalue": "'Temprature'",
     "output_type": "error",
     "traceback": [
      "\u001b[0;31m---------------------------------------------------------------------------\u001b[0m",
      "\u001b[0;31mKeyError\u001b[0m                                  Traceback (most recent call last)",
      "Cell \u001b[0;32mIn[13], line 2\u001b[0m\n\u001b[1;32m      1\u001b[0m (\u001b[43mdf\u001b[49m\n\u001b[0;32m----> 2\u001b[0m \u001b[38;5;241;43m.\u001b[39;49m\u001b[43mgroupby\u001b[49m\u001b[43m(\u001b[49m\u001b[43m[\u001b[49m\u001b[38;5;124;43m'\u001b[39;49m\u001b[38;5;124;43mTemprature\u001b[39;49m\u001b[38;5;124;43m'\u001b[39;49m\u001b[43m]\u001b[49m\u001b[43m)\u001b[49m\n\u001b[1;32m      3\u001b[0m \u001b[38;5;241m.\u001b[39mGrade\u001b[38;5;66;03m#y\u001b[39;00m\n\u001b[1;32m      4\u001b[0m \u001b[38;5;241m.\u001b[39mvalue_counts(normalize\u001b[38;5;241m=\u001b[39m\u001b[38;5;28;01mTrue\u001b[39;00m)\n\u001b[1;32m      5\u001b[0m \u001b[38;5;241m.\u001b[39munstack()\n\u001b[1;32m      6\u001b[0m \u001b[38;5;241m.\u001b[39mplot\n\u001b[1;32m      7\u001b[0m \u001b[38;5;241m.\u001b[39mbar(title\u001b[38;5;241m=\u001b[39m\u001b[38;5;124m'\u001b[39m\u001b[38;5;124mgrade v. Temp\u001b[39m\u001b[38;5;124m'\u001b[39m, rot\u001b[38;5;241m=\u001b[39m\u001b[38;5;124m'\u001b[39m\u001b[38;5;124mhorizontal\u001b[39m\u001b[38;5;124m'\u001b[39m)\n\u001b[1;32m      8\u001b[0m );\n",
      "File \u001b[0;32m/opt/conda/lib/python3.10/site-packages/pandas/core/frame.py:8402\u001b[0m, in \u001b[0;36mDataFrame.groupby\u001b[0;34m(self, by, axis, level, as_index, sort, group_keys, squeeze, observed, dropna)\u001b[0m\n\u001b[1;32m   8399\u001b[0m     \u001b[38;5;28;01mraise\u001b[39;00m \u001b[38;5;167;01mTypeError\u001b[39;00m(\u001b[38;5;124m\"\u001b[39m\u001b[38;5;124mYou have to supply one of \u001b[39m\u001b[38;5;124m'\u001b[39m\u001b[38;5;124mby\u001b[39m\u001b[38;5;124m'\u001b[39m\u001b[38;5;124m and \u001b[39m\u001b[38;5;124m'\u001b[39m\u001b[38;5;124mlevel\u001b[39m\u001b[38;5;124m'\u001b[39m\u001b[38;5;124m\"\u001b[39m)\n\u001b[1;32m   8400\u001b[0m axis \u001b[38;5;241m=\u001b[39m \u001b[38;5;28mself\u001b[39m\u001b[38;5;241m.\u001b[39m_get_axis_number(axis)\n\u001b[0;32m-> 8402\u001b[0m \u001b[38;5;28;01mreturn\u001b[39;00m \u001b[43mDataFrameGroupBy\u001b[49m\u001b[43m(\u001b[49m\n\u001b[1;32m   8403\u001b[0m \u001b[43m    \u001b[49m\u001b[43mobj\u001b[49m\u001b[38;5;241;43m=\u001b[39;49m\u001b[38;5;28;43mself\u001b[39;49m\u001b[43m,\u001b[49m\n\u001b[1;32m   8404\u001b[0m \u001b[43m    \u001b[49m\u001b[43mkeys\u001b[49m\u001b[38;5;241;43m=\u001b[39;49m\u001b[43mby\u001b[49m\u001b[43m,\u001b[49m\n\u001b[1;32m   8405\u001b[0m \u001b[43m    \u001b[49m\u001b[43maxis\u001b[49m\u001b[38;5;241;43m=\u001b[39;49m\u001b[43maxis\u001b[49m\u001b[43m,\u001b[49m\n\u001b[1;32m   8406\u001b[0m \u001b[43m    \u001b[49m\u001b[43mlevel\u001b[49m\u001b[38;5;241;43m=\u001b[39;49m\u001b[43mlevel\u001b[49m\u001b[43m,\u001b[49m\n\u001b[1;32m   8407\u001b[0m \u001b[43m    \u001b[49m\u001b[43mas_index\u001b[49m\u001b[38;5;241;43m=\u001b[39;49m\u001b[43mas_index\u001b[49m\u001b[43m,\u001b[49m\n\u001b[1;32m   8408\u001b[0m \u001b[43m    \u001b[49m\u001b[43msort\u001b[49m\u001b[38;5;241;43m=\u001b[39;49m\u001b[43msort\u001b[49m\u001b[43m,\u001b[49m\n\u001b[1;32m   8409\u001b[0m \u001b[43m    \u001b[49m\u001b[43mgroup_keys\u001b[49m\u001b[38;5;241;43m=\u001b[39;49m\u001b[43mgroup_keys\u001b[49m\u001b[43m,\u001b[49m\n\u001b[1;32m   8410\u001b[0m \u001b[43m    \u001b[49m\u001b[43msqueeze\u001b[49m\u001b[38;5;241;43m=\u001b[39;49m\u001b[43msqueeze\u001b[49m\u001b[43m,\u001b[49m\n\u001b[1;32m   8411\u001b[0m \u001b[43m    \u001b[49m\u001b[43mobserved\u001b[49m\u001b[38;5;241;43m=\u001b[39;49m\u001b[43mobserved\u001b[49m\u001b[43m,\u001b[49m\n\u001b[1;32m   8412\u001b[0m \u001b[43m    \u001b[49m\u001b[43mdropna\u001b[49m\u001b[38;5;241;43m=\u001b[39;49m\u001b[43mdropna\u001b[49m\u001b[43m,\u001b[49m\n\u001b[1;32m   8413\u001b[0m \u001b[43m\u001b[49m\u001b[43m)\u001b[49m\n",
      "File \u001b[0;32m/opt/conda/lib/python3.10/site-packages/pandas/core/groupby/groupby.py:965\u001b[0m, in \u001b[0;36mGroupBy.__init__\u001b[0;34m(self, obj, keys, axis, level, grouper, exclusions, selection, as_index, sort, group_keys, squeeze, observed, mutated, dropna)\u001b[0m\n\u001b[1;32m    962\u001b[0m \u001b[38;5;28;01mif\u001b[39;00m grouper \u001b[38;5;129;01mis\u001b[39;00m \u001b[38;5;28;01mNone\u001b[39;00m:\n\u001b[1;32m    963\u001b[0m     \u001b[38;5;28;01mfrom\u001b[39;00m \u001b[38;5;21;01mpandas\u001b[39;00m\u001b[38;5;21;01m.\u001b[39;00m\u001b[38;5;21;01mcore\u001b[39;00m\u001b[38;5;21;01m.\u001b[39;00m\u001b[38;5;21;01mgroupby\u001b[39;00m\u001b[38;5;21;01m.\u001b[39;00m\u001b[38;5;21;01mgrouper\u001b[39;00m \u001b[38;5;28;01mimport\u001b[39;00m get_grouper\n\u001b[0;32m--> 965\u001b[0m     grouper, exclusions, obj \u001b[38;5;241m=\u001b[39m \u001b[43mget_grouper\u001b[49m\u001b[43m(\u001b[49m\n\u001b[1;32m    966\u001b[0m \u001b[43m        \u001b[49m\u001b[43mobj\u001b[49m\u001b[43m,\u001b[49m\n\u001b[1;32m    967\u001b[0m \u001b[43m        \u001b[49m\u001b[43mkeys\u001b[49m\u001b[43m,\u001b[49m\n\u001b[1;32m    968\u001b[0m \u001b[43m        \u001b[49m\u001b[43maxis\u001b[49m\u001b[38;5;241;43m=\u001b[39;49m\u001b[43maxis\u001b[49m\u001b[43m,\u001b[49m\n\u001b[1;32m    969\u001b[0m \u001b[43m        \u001b[49m\u001b[43mlevel\u001b[49m\u001b[38;5;241;43m=\u001b[39;49m\u001b[43mlevel\u001b[49m\u001b[43m,\u001b[49m\n\u001b[1;32m    970\u001b[0m \u001b[43m        \u001b[49m\u001b[43msort\u001b[49m\u001b[38;5;241;43m=\u001b[39;49m\u001b[43msort\u001b[49m\u001b[43m,\u001b[49m\n\u001b[1;32m    971\u001b[0m \u001b[43m        \u001b[49m\u001b[43mobserved\u001b[49m\u001b[38;5;241;43m=\u001b[39;49m\u001b[43mobserved\u001b[49m\u001b[43m,\u001b[49m\n\u001b[1;32m    972\u001b[0m \u001b[43m        \u001b[49m\u001b[43mmutated\u001b[49m\u001b[38;5;241;43m=\u001b[39;49m\u001b[38;5;28;43mself\u001b[39;49m\u001b[38;5;241;43m.\u001b[39;49m\u001b[43mmutated\u001b[49m\u001b[43m,\u001b[49m\n\u001b[1;32m    973\u001b[0m \u001b[43m        \u001b[49m\u001b[43mdropna\u001b[49m\u001b[38;5;241;43m=\u001b[39;49m\u001b[38;5;28;43mself\u001b[39;49m\u001b[38;5;241;43m.\u001b[39;49m\u001b[43mdropna\u001b[49m\u001b[43m,\u001b[49m\n\u001b[1;32m    974\u001b[0m \u001b[43m    \u001b[49m\u001b[43m)\u001b[49m\n\u001b[1;32m    976\u001b[0m \u001b[38;5;28mself\u001b[39m\u001b[38;5;241m.\u001b[39mobj \u001b[38;5;241m=\u001b[39m obj\n\u001b[1;32m    977\u001b[0m \u001b[38;5;28mself\u001b[39m\u001b[38;5;241m.\u001b[39maxis \u001b[38;5;241m=\u001b[39m obj\u001b[38;5;241m.\u001b[39m_get_axis_number(axis)\n",
      "File \u001b[0;32m/opt/conda/lib/python3.10/site-packages/pandas/core/groupby/grouper.py:888\u001b[0m, in \u001b[0;36mget_grouper\u001b[0;34m(obj, key, axis, level, sort, observed, mutated, validate, dropna)\u001b[0m\n\u001b[1;32m    886\u001b[0m         in_axis, level, gpr \u001b[38;5;241m=\u001b[39m \u001b[38;5;28;01mFalse\u001b[39;00m, gpr, \u001b[38;5;28;01mNone\u001b[39;00m\n\u001b[1;32m    887\u001b[0m     \u001b[38;5;28;01melse\u001b[39;00m:\n\u001b[0;32m--> 888\u001b[0m         \u001b[38;5;28;01mraise\u001b[39;00m \u001b[38;5;167;01mKeyError\u001b[39;00m(gpr)\n\u001b[1;32m    889\u001b[0m \u001b[38;5;28;01melif\u001b[39;00m \u001b[38;5;28misinstance\u001b[39m(gpr, Grouper) \u001b[38;5;129;01mand\u001b[39;00m gpr\u001b[38;5;241m.\u001b[39mkey \u001b[38;5;129;01mis\u001b[39;00m \u001b[38;5;129;01mnot\u001b[39;00m \u001b[38;5;28;01mNone\u001b[39;00m:\n\u001b[1;32m    890\u001b[0m     \u001b[38;5;66;03m# Add key to exclusions\u001b[39;00m\n\u001b[1;32m    891\u001b[0m     exclusions\u001b[38;5;241m.\u001b[39madd(gpr\u001b[38;5;241m.\u001b[39mkey)\n",
      "\u001b[0;31mKeyError\u001b[0m: 'Temprature'"
     ]
    }
   ],
   "source": [
    "(df\n",
    ".groupby(['Temprature'])\n",
    ".Grade#y\n",
    ".value_counts(normalize=True)\n",
    ".unstack()\n",
    ".plot\n",
    ".bar(title='grade v. Temp', rot='horizontal')\n",
    ");"
   ]
  },
  {
   "cell_type": "code",
   "execution_count": null,
   "id": "72caf4f4",
   "metadata": {
    "execution": {
     "iopub.execute_input": "2023-08-30T04:41:30.643026Z",
     "iopub.status.busy": "2023-08-30T04:41:30.641841Z",
     "iopub.status.idle": "2023-08-30T04:41:30.704080Z",
     "shell.execute_reply": "2023-08-30T04:41:30.702707Z",
     "shell.execute_reply.started": "2023-08-30T04:41:30.642980Z"
    },
    "papermill": {
     "duration": null,
     "end_time": null,
     "exception": null,
     "start_time": null,
     "status": "pending"
    },
    "tags": []
   },
   "outputs": [],
   "source": [
    "\n",
    "(df1\n",
    ".corr()\n",
    ".style\n",
    ".background_gradient(cmap=\"viridis\", axis=None)\n",
    ")"
   ]
  },
  {
   "cell_type": "markdown",
   "id": "8e16cd05",
   "metadata": {
    "papermill": {
     "duration": null,
     "end_time": null,
     "exception": null,
     "start_time": null,
     "status": "pending"
    },
    "tags": []
   },
   "source": [
    "Data Preprocessing and modelling"
   ]
  },
  {
   "cell_type": "code",
   "execution_count": null,
   "id": "f797195f",
   "metadata": {
    "execution": {
     "iopub.execute_input": "2023-08-30T04:36:04.314492Z",
     "iopub.status.busy": "2023-08-30T04:36:04.314035Z",
     "iopub.status.idle": "2023-08-30T04:36:04.953889Z",
     "shell.execute_reply": "2023-08-30T04:36:04.952876Z",
     "shell.execute_reply.started": "2023-08-30T04:36:04.314452Z"
    },
    "papermill": {
     "duration": null,
     "end_time": null,
     "exception": null,
     "start_time": null,
     "status": "pending"
    },
    "tags": []
   },
   "outputs": [],
   "source": [
    "from sklearn.model_selection import train_test_split\n",
    "from sklearn.pipeline import Pipeline\n",
    "from sklearn.ensemble import RandomForestClassifier\n",
    "from xgboost import XGBClassifier\n",
    "from sklearn.metrics import accuracy_score,precision_score,recall_score,roc_auc_score,confusion_matrix\n",
    "from sklearn.base import BaseEstimator, TransformerMixin"
   ]
  },
  {
   "cell_type": "code",
   "execution_count": null,
   "id": "9ea004cc",
   "metadata": {
    "execution": {
     "iopub.execute_input": "2023-08-30T04:36:49.342643Z",
     "iopub.status.busy": "2023-08-30T04:36:49.342106Z",
     "iopub.status.idle": "2023-08-30T04:36:49.352583Z",
     "shell.execute_reply": "2023-08-30T04:36:49.351353Z",
     "shell.execute_reply.started": "2023-08-30T04:36:49.342582Z"
    },
    "papermill": {
     "duration": null,
     "end_time": null,
     "exception": null,
     "start_time": null,
     "status": "pending"
    },
    "tags": []
   },
   "outputs": [],
   "source": [
    "lab=LabelEncoder()\n",
    "df['effect']=lab.fit_transform(df['effect'])\n",
    "df['effect'].shape\n",
    "# df1.shape"
   ]
  },
  {
   "cell_type": "code",
   "execution_count": null,
   "id": "9aa35239",
   "metadata": {
    "execution": {
     "iopub.execute_input": "2023-08-30T04:36:51.428210Z",
     "iopub.status.busy": "2023-08-30T04:36:51.427761Z",
     "iopub.status.idle": "2023-08-30T04:36:51.437546Z",
     "shell.execute_reply": "2023-08-30T04:36:51.435331Z",
     "shell.execute_reply.started": "2023-08-30T04:36:51.428177Z"
    },
    "papermill": {
     "duration": null,
     "end_time": null,
     "exception": null,
     "start_time": null,
     "status": "pending"
    },
    "tags": []
   },
   "outputs": [],
   "source": [
    "df.shape"
   ]
  },
  {
   "cell_type": "code",
   "execution_count": null,
   "id": "92d07b5d",
   "metadata": {
    "execution": {
     "iopub.execute_input": "2023-08-30T04:36:55.550230Z",
     "iopub.status.busy": "2023-08-30T04:36:55.549362Z",
     "iopub.status.idle": "2023-08-30T04:36:55.555801Z",
     "shell.execute_reply": "2023-08-30T04:36:55.555034Z",
     "shell.execute_reply.started": "2023-08-30T04:36:55.550187Z"
    },
    "papermill": {
     "duration": null,
     "end_time": null,
     "exception": null,
     "start_time": null,
     "status": "pending"
    },
    "tags": []
   },
   "outputs": [],
   "source": [
    "df1.shape"
   ]
  },
  {
   "cell_type": "code",
   "execution_count": null,
   "id": "9691bde1",
   "metadata": {
    "execution": {
     "iopub.execute_input": "2023-08-30T04:37:05.660295Z",
     "iopub.status.busy": "2023-08-30T04:37:05.659783Z",
     "iopub.status.idle": "2023-08-30T04:37:05.667224Z",
     "shell.execute_reply": "2023-08-30T04:37:05.666434Z",
     "shell.execute_reply.started": "2023-08-30T04:37:05.660259Z"
    },
    "papermill": {
     "duration": null,
     "end_time": null,
     "exception": null,
     "start_time": null,
     "status": "pending"
    },
    "tags": []
   },
   "outputs": [],
   "source": [
    "X_train, X_test, y_train, y_test = train_test_split(df1,\n",
    " df['effect'],\n",
    " test_size=0.2,\n",
    "random_state=42)\n"
   ]
  },
  {
   "cell_type": "code",
   "execution_count": 2,
   "id": "c3548797",
   "metadata": {
    "execution": {
     "iopub.execute_input": "2023-08-30T04:37:07.005062Z",
     "iopub.status.busy": "2023-08-30T04:37:07.004633Z",
     "iopub.status.idle": "2023-08-30T04:37:07.071792Z",
     "shell.execute_reply": "2023-08-30T04:37:07.070803Z",
     "shell.execute_reply.started": "2023-08-30T04:37:07.005028Z"
    },
    "papermill": {
     "duration": null,
     "end_time": null,
     "exception": null,
     "start_time": null,
     "status": "pending"
    },
    "tags": []
   },
   "outputs": [
    {
     "ename": "ModuleNotFoundError",
     "evalue": "No module named 'sklearn'",
     "output_type": "error",
     "traceback": [
      "\u001b[1;31m---------------------------------------------------------------------------\u001b[0m",
      "\u001b[1;31mModuleNotFoundError\u001b[0m                       Traceback (most recent call last)",
      "Cell \u001b[1;32mIn[2], line 5\u001b[0m\n\u001b[0;32m      1\u001b[0m \u001b[38;5;66;03m# Time for Classification Models\u001b[39;00m\n\u001b[0;32m      2\u001b[0m \u001b[38;5;28;01mimport\u001b[39;00m \u001b[38;5;21;01mtime\u001b[39;00m\n\u001b[1;32m----> 5\u001b[0m \u001b[38;5;28;01mfrom\u001b[39;00m \u001b[38;5;21;01msklearn\u001b[39;00m\u001b[38;5;21;01m.\u001b[39;00m\u001b[38;5;21;01mdecomposition\u001b[39;00m \u001b[38;5;28;01mimport\u001b[39;00m PCA\n\u001b[0;32m      6\u001b[0m \u001b[38;5;28;01mfrom\u001b[39;00m \u001b[38;5;21;01msklearn\u001b[39;00m\u001b[38;5;21;01m.\u001b[39;00m\u001b[38;5;21;01mpreprocessing\u001b[39;00m \u001b[38;5;28;01mimport\u001b[39;00m StandardScaler, LabelEncoder\n\u001b[0;32m      8\u001b[0m \u001b[38;5;28;01mfrom\u001b[39;00m \u001b[38;5;21;01msklearn\u001b[39;00m\u001b[38;5;21;01m.\u001b[39;00m\u001b[38;5;21;01mlinear_model\u001b[39;00m \u001b[38;5;28;01mimport\u001b[39;00m LogisticRegression\n",
      "\u001b[1;31mModuleNotFoundError\u001b[0m: No module named 'sklearn'"
     ]
    }
   ],
   "source": [
    "# Time for Classification Models\n",
    "import time\n",
    "\n",
    "\n",
    "from sklearn.decomposition import PCA\n",
    "from sklearn.preprocessing import StandardScaler, LabelEncoder\n",
    " \n",
    "from sklearn.linear_model import LogisticRegression\n",
    "from sklearn.svm import SVC\n",
    "from sklearn.neighbors import KNeighborsClassifier\n",
    "from sklearn import tree\n",
    "from sklearn.neural_network import MLPClassifier\n",
    "from sklearn.neighbors import KNeighborsClassifier\n",
    "from sklearn.ensemble import GradientBoostingClassifier\n",
    "from sklearn.gaussian_process.kernels import RBF\n",
    "from sklearn.ensemble import RandomForestClassifier\n",
    "from sklearn.naive_bayes import GaussianNB\n",
    "\n",
    "\n",
    "dict_classifiers = {\n",
    "    \"Logistic Regression\": LogisticRegression(),\n",
    "    \"Nearest Neighbors\": KNeighborsClassifier(),\n",
    "    \"Linear SVM\": SVC(),\n",
    "    \"Gradient Boosting Classifier\": GradientBoostingClassifier(),\n",
    "    \"Decision Tree\": tree.DecisionTreeClassifier(),\n",
    "    \"Random Forest\": RandomForestClassifier(n_estimators=18),\n",
    "    \"Neural Net\": MLPClassifier(alpha=1),\n",
    "    \"Naive Bayes\": GaussianNB()\n",
    "}"
   ]
  },
  {
   "cell_type": "code",
   "execution_count": null,
   "id": "8fb0ddc6",
   "metadata": {
    "execution": {
     "iopub.execute_input": "2023-08-30T04:37:08.091954Z",
     "iopub.status.busy": "2023-08-30T04:37:08.091179Z",
     "iopub.status.idle": "2023-08-30T04:37:08.098188Z",
     "shell.execute_reply": "2023-08-30T04:37:08.097330Z",
     "shell.execute_reply.started": "2023-08-30T04:37:08.091914Z"
    },
    "papermill": {
     "duration": null,
     "end_time": null,
     "exception": null,
     "start_time": null,
     "status": "pending"
    },
    "tags": []
   },
   "outputs": [],
   "source": [
    "no_classifiers = len(dict_classifiers.keys())\n",
    "\n",
    "def batch_classify(X_train, Y_train, verbose = True):\n",
    "    df_results = pd.DataFrame(data=np.zeros(shape=(no_classifiers,3)), columns = ['classifier', 'train_score', 'training_time'])\n",
    "    count = 0\n",
    "    for key, classifier in dict_classifiers.items():\n",
    "        classifier.fit(X_train, Y_train)\n",
    "        train_score = classifier.score(X_train, Y_train)\n",
    "        df_results.loc[count,'classifier'] = key\n",
    "        df_results.loc[count,'train_score'] = train_score\n",
    "        count+=1\n",
    "    return df_results"
   ]
  },
  {
   "cell_type": "code",
   "execution_count": null,
   "id": "8de613e7",
   "metadata": {
    "execution": {
     "iopub.execute_input": "2023-08-30T04:37:09.001374Z",
     "iopub.status.busy": "2023-08-30T04:37:09.000465Z",
     "iopub.status.idle": "2023-08-30T04:37:09.237180Z",
     "shell.execute_reply": "2023-08-30T04:37:09.236165Z",
     "shell.execute_reply.started": "2023-08-30T04:37:09.001330Z"
    },
    "papermill": {
     "duration": null,
     "end_time": null,
     "exception": null,
     "start_time": null,
     "status": "pending"
    },
    "tags": []
   },
   "outputs": [],
   "source": [
    "df_results = batch_classify(X_train, y_train)\n",
    "print(df_results.sort_values(by='train_score', ascending=False))"
   ]
  },
  {
   "cell_type": "code",
   "execution_count": null,
   "id": "52851582",
   "metadata": {
    "papermill": {
     "duration": null,
     "end_time": null,
     "exception": null,
     "start_time": null,
     "status": "pending"
    },
    "tags": []
   },
   "outputs": [],
   "source": []
  }
 ],
 "metadata": {
  "kernelspec": {
   "display_name": "Python 3",
   "language": "python",
   "name": "python3"
  },
  "language_info": {
   "codemirror_mode": {
    "name": "ipython",
    "version": 3
   },
   "file_extension": ".py",
   "mimetype": "text/x-python",
   "name": "python",
   "nbconvert_exporter": "python",
   "pygments_lexer": "ipython3",
   "version": "3.12.8"
  },
  "papermill": {
   "default_parameters": {},
   "duration": 11.496217,
   "end_time": "2023-08-30T04:51:56.079862",
   "environment_variables": {},
   "exception": true,
   "input_path": "__notebook__.ipynb",
   "output_path": "__notebook__.ipynb",
   "parameters": {},
   "start_time": "2023-08-30T04:51:44.583645",
   "version": "2.4.0"
  }
 },
 "nbformat": 4,
 "nbformat_minor": 5
}
